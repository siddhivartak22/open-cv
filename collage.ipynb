{
 "cells": [
  {
   "cell_type": "code",
   "execution_count": 13,
   "id": "0c90f183",
   "metadata": {},
   "outputs": [],
   "source": [
    "import cv2\n",
    "import numpy as np"
   ]
  },
  {
   "cell_type": "code",
   "execution_count": 14,
   "id": "768be2f2",
   "metadata": {},
   "outputs": [],
   "source": [
    "pic1=cv2.imread(\"cat.jpg\")\n",
    "pic2=cv2.imread(\"dakota.jpg\")\n",
    "pic3=cv2.imread(\"jamie.jpg\")\n",
    "pic4=cv2.imread(\"dora.jpg\")"
   ]
  },
  {
   "cell_type": "code",
   "execution_count": 15,
   "id": "02ff4413",
   "metadata": {},
   "outputs": [],
   "source": [
    "#Resize the image\n",
    "pic1=cv2.resize(pic1,(300,300))\n",
    "pic2=cv2.resize(pic2,(300,300))\n",
    "pic3=cv2.resize(pic3,(300,300))\n",
    "pic4=cv2.resize(pic4,(300,300))"
   ]
  },
  {
   "cell_type": "code",
   "execution_count": 16,
   "id": "1a8a96d7",
   "metadata": {},
   "outputs": [],
   "source": [
    "hor1=np.hstack([pic1,pic2])\n",
    "hor2=np.hstack([pic3,pic4])"
   ]
  },
  {
   "cell_type": "code",
   "execution_count": 17,
   "id": "108f285e",
   "metadata": {},
   "outputs": [],
   "source": [
    "ver=np.vstack([hor1,hor2])"
   ]
  },
  {
   "cell_type": "code",
   "execution_count": 18,
   "id": "5c232e43",
   "metadata": {},
   "outputs": [],
   "source": [
    "#Collage\n",
    "cv2.imshow(\"collage\",ver)\n",
    "cv2.waitKey(0)\n",
    "cv2.destroyAllWindows()"
   ]
  },
  {
   "cell_type": "code",
   "execution_count": null,
   "id": "b542405e",
   "metadata": {},
   "outputs": [],
   "source": []
  }
 ],
 "metadata": {
  "kernelspec": {
   "display_name": "Python 3",
   "language": "python",
   "name": "python3"
  },
  "language_info": {
   "codemirror_mode": {
    "name": "ipython",
    "version": 3
   },
   "file_extension": ".py",
   "mimetype": "text/x-python",
   "name": "python",
   "nbconvert_exporter": "python",
   "pygments_lexer": "ipython3",
   "version": "3.8.8"
  }
 },
 "nbformat": 4,
 "nbformat_minor": 5
}

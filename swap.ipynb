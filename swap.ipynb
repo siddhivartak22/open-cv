{
 "cells": [
  {
   "cell_type": "code",
   "execution_count": 34,
   "id": "a625a173",
   "metadata": {},
   "outputs": [],
   "source": [
    "import cv2\n",
    "import numpy as np"
   ]
  },
  {
   "cell_type": "code",
   "execution_count": 35,
   "id": "2581c949",
   "metadata": {},
   "outputs": [],
   "source": [
    "pic1 =cv2.imread('jamie.jpg')\n",
    "cv2.imshow('jamie', pic1)\n",
    "cv2.waitKey()\n",
    "cv2.destroyAllWindows()"
   ]
  },
  {
   "cell_type": "code",
   "execution_count": 36,
   "id": "d0abb760",
   "metadata": {},
   "outputs": [],
   "source": [
    "model = cv2.CascadeClassifier('haarcascade_frontalface_default.xml')"
   ]
  },
  {
   "cell_type": "code",
   "execution_count": 37,
   "id": "78c46e5b",
   "metadata": {},
   "outputs": [
    {
     "name": "stdout",
     "output_type": "stream",
     "text": [
      "[[274 127 357 357]\n",
      " [467 530 131 131]]\n",
      " 274, 631, 127, 484\n"
     ]
    }
   ],
   "source": [
    "faces = model.detectMultiScale(pic1)\n",
    "x1 = faces[0][0]\n",
    "y1 = faces[0][1]\n",
    "x2 = x1 + faces[0][2]\n",
    "y2 = y1 + faces[0][3]\n",
    "print(faces)\n",
    "print(f\" {x1}, {x2}, {y1}, {y2}\")         \n",
    "jamie_face = cv2.rectangle(pic1, (x1,y1) , (x2,y2), [255,255,255], 2)     \n",
    "cv2.imshow(\"image\", jamie_face)\n",
    "cv2.waitKey()\n",
    "cv2.destroyAllWindows()"
   ]
  },
  {
   "cell_type": "code",
   "execution_count": 38,
   "id": "b1f2ab04",
   "metadata": {},
   "outputs": [],
   "source": [
    "pic2 =cv2.imread('dakota.jpg')\n",
    "cv2.imshow('dakota', pic2)\n",
    "cv2.waitKey()\n",
    "cv2.destroyAllWindows()"
   ]
  },
  {
   "cell_type": "code",
   "execution_count": 39,
   "id": "944787a8",
   "metadata": {},
   "outputs": [
    {
     "name": "stdout",
     "output_type": "stream",
     "text": [
      "[[118  89 214 214]]\n",
      " 118, 332, 89, 303\n"
     ]
    }
   ],
   "source": [
    "faces1 = model.detectMultiScale(pic2)\n",
    "x1 = faces1[0][0]\n",
    "y1 = faces1[0][1]\n",
    "x2 = x1 + faces1[0][2]\n",
    "y2 = y1 + faces1[0][3]\n",
    "print(faces1)\n",
    "print(f\" {x1}, {x2}, {y1}, {y2}\")"
   ]
  },
  {
   "cell_type": "code",
   "execution_count": 40,
   "id": "3f52e8ec",
   "metadata": {},
   "outputs": [],
   "source": [
    "#show pic2\n",
    "cv2.imshow(\"dakota\", pic2)\n",
    "cv2.waitKey()\n",
    "cv2.destroyAllWindows()"
   ]
  },
  {
   "cell_type": "code",
   "execution_count": 41,
   "id": "642be04b",
   "metadata": {},
   "outputs": [],
   "source": [
    "#swap the pics\n",
    "swap = pic1[214:402, 335:523]\n",
    "pic2[72:260, 100:288] = swap\n",
    "cv2.imshow(\"Swapped image\", pic2)\n",
    "cv2.waitKey()\n",
    "cv2.destroyAllWindows()\n"
   ]
  },
  {
   "cell_type": "code",
   "execution_count": null,
   "id": "6d6857cc",
   "metadata": {},
   "outputs": [],
   "source": []
  }
 ],
 "metadata": {
  "kernelspec": {
   "display_name": "Python 3",
   "language": "python",
   "name": "python3"
  },
  "language_info": {
   "codemirror_mode": {
    "name": "ipython",
    "version": 3
   },
   "file_extension": ".py",
   "mimetype": "text/x-python",
   "name": "python",
   "nbconvert_exporter": "python",
   "pygments_lexer": "ipython3",
   "version": "3.8.8"
  }
 },
 "nbformat": 4,
 "nbformat_minor": 5
}

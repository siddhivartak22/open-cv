{
 "cells": [
  {
   "cell_type": "code",
   "execution_count": 10,
   "id": "62de206c",
   "metadata": {},
   "outputs": [],
   "source": [
    "import cv2\n",
    "import numpy as np"
   ]
  },
  {
   "cell_type": "code",
   "execution_count": 11,
   "id": "13dc3941",
   "metadata": {},
   "outputs": [],
   "source": [
    "#screen size\n",
    "image=np.zeros((600,1250,3))"
   ]
  },
  {
   "cell_type": "code",
   "execution_count": 12,
   "id": "0f359138",
   "metadata": {},
   "outputs": [],
   "source": [
    "#draw circle\n",
    "cv2.circle(image, (350, 200), 50, (0,0,255), 3 )\n",
    "\n",
    "#draw circle with filled color\n",
    "cv2.circle(image, (550, 200), 50, (0, 0, 255), -1 )\n",
    "\n",
    "#title of the image\n",
    "cv2.imshow(\"My Image\", image)\n",
    "cv2.waitKey(0)\n",
    "cv2.destroyAllWindows()"
   ]
  },
  {
   "cell_type": "code",
   "execution_count": null,
   "id": "2c9c461c",
   "metadata": {},
   "outputs": [],
   "source": []
  },
  {
   "cell_type": "code",
   "execution_count": null,
   "id": "47bca030",
   "metadata": {},
   "outputs": [],
   "source": []
  },
  {
   "cell_type": "code",
   "execution_count": null,
   "id": "5c6c54e8",
   "metadata": {},
   "outputs": [],
   "source": []
  },
  {
   "cell_type": "code",
   "execution_count": null,
   "id": "620af8c4",
   "metadata": {},
   "outputs": [],
   "source": []
  },
  {
   "cell_type": "code",
   "execution_count": null,
   "id": "77d71879",
   "metadata": {},
   "outputs": [],
   "source": []
  }
 ],
 "metadata": {
  "kernelspec": {
   "display_name": "Python 3",
   "language": "python",
   "name": "python3"
  },
  "language_info": {
   "codemirror_mode": {
    "name": "ipython",
    "version": 3
   },
   "file_extension": ".py",
   "mimetype": "text/x-python",
   "name": "python",
   "nbconvert_exporter": "python",
   "pygments_lexer": "ipython3",
   "version": "3.8.8"
  }
 },
 "nbformat": 4,
 "nbformat_minor": 5
}

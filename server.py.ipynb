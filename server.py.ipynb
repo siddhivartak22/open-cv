{
 "cells": [
  {
   "cell_type": "code",
   "execution_count": null,
   "id": "4dd315b7",
   "metadata": {},
   "outputs": [],
   "source": [
    "import socket\n",
    "import cv2\n",
    "import numpy as np\n",
    "\n",
    "\n",
    "# Server socket\n",
    "PORT = 50500\n",
    "s = socket.socket(socket.AF_INET, socket.SOCK_STREAM)\n",
    "print('Socket created')\n",
    "\n",
    "s.bind(('127.0.0.1',PORT))\n",
    "print('Socket bind complete')\n",
    "\n",
    "s.listen(10)\n",
    "print('Socket now listening')\n",
    "\n",
    "conn, addr = s.accept()\n",
    "\n",
    "# Client Socket\n",
    "capture = cv2.VideoCapture(0)\n",
    "sock = socket.socket(socket.AF_INET, socket.SOCK_STREAM)\n",
    "sock.connect(('192.168.43.185', 50500))\n",
    "\n",
    "model = cv2.CascadeClassifier('haarcascade_frontalface_default.xml')\n",
    "\n",
    "while True:\n",
    "    data = conn.recv(90456)\n",
    "    nparr = np.fromstring(data, np.uint8)\n",
    "    frame = cv2.imdecode(nparr, cv2.IMREAD_COLOR)\n",
    "    if type(frame) is type(None):\n",
    "        pass\n",
    "    else:\n",
    "        face = model.detectMultiScale(frame)\n",
    "        if len(face) !=0 :\n",
    "            x1 = face[0][0]\n",
    "            y1 = face[0][1]\n",
    "            x2 = x1 + face[0][2]\n",
    "            y2 = y1 + face[0][3]\n",
    "            frame = cv2.rectangle(frame,(x1,y1),(x2,y2),[0,0,255],4)\n",
    "        cv2.imshow('Linux', frame)\n",
    "        if cv2.waitKey(10) == 13:\n",
    "            break\n",
    "    ret, frame = capture.read()\n",
    "    data = cv2.imencode('.jpg', frame)[1].tostring()\n",
    "    sock.sendall(data)\n",
    "\n",
    "cv2.destroyAllWindows()"
   ]
  },
  {
   "cell_type": "code",
   "execution_count": null,
   "id": "aaf17ca0",
   "metadata": {},
   "outputs": [],
   "source": []
  },
  {
   "cell_type": "code",
   "execution_count": null,
   "id": "b7b59e38",
   "metadata": {},
   "outputs": [],
   "source": []
  },
  {
   "cell_type": "code",
   "execution_count": null,
   "id": "e4ab4bfe",
   "metadata": {},
   "outputs": [],
   "source": []
  },
  {
   "cell_type": "code",
   "execution_count": null,
   "id": "6d40803f",
   "metadata": {},
   "outputs": [],
   "source": []
  }
 ],
 "metadata": {
  "kernelspec": {
   "display_name": "Python 3",
   "language": "python",
   "name": "python3"
  },
  "language_info": {
   "codemirror_mode": {
    "name": "ipython",
    "version": 3
   },
   "file_extension": ".py",
   "mimetype": "text/x-python",
   "name": "python",
   "nbconvert_exporter": "python",
   "pygments_lexer": "ipython3",
   "version": "3.8.8"
  }
 },
 "nbformat": 4,
 "nbformat_minor": 5
}
